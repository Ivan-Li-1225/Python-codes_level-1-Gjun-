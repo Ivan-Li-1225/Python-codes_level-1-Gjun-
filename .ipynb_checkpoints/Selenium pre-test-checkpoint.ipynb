{
 "cells": [
  {
   "cell_type": "code",
   "execution_count": 18,
   "id": "f264238e-3bb3-44c7-8782-0aa1f3cfc9a3",
   "metadata": {},
   "outputs": [
    {
     "ename": "SyntaxError",
     "evalue": "invalid syntax. Perhaps you forgot a comma? (942580993.py, line 4)",
     "output_type": "error",
     "traceback": [
      "\u001b[1;36m  Cell \u001b[1;32mIn[18], line 4\u001b[1;36m\u001b[0m\n\u001b[1;33m    driver.find_element(xpath, \"//*[@id=\"hotsearch-content-wrapper\"]/li[1]/a/span[2]\")\u001b[0m\n\u001b[1;37m                               ^\u001b[0m\n\u001b[1;31mSyntaxError\u001b[0m\u001b[1;31m:\u001b[0m invalid syntax. Perhaps you forgot a comma?\n"
     ]
    }
   ],
   "source": [
    "from webdriver_helper import get_webdriver\n",
    "driver = get_webdriver()  # 獲取瀏覽器驅動\n",
    "driver.get(\"http://baidu.com\")   # 跳轉頁面\n",
    "driver.find_element(xpath, \"//*[@id=\"hotsearch-content-wrapper\"]/li[1]/a/span[2]\")\n",
    "driver.find_element(xpath, \"//*[@id=\"hotsearch-content-wrapper\"]/li[6]/a/span[2]\")\n",
    "input()"
   ]
  },
  {
   "cell_type": "code",
   "execution_count": null,
   "id": "bae43bc8-8b53-4edd-912e-3a50e7a082b7",
   "metadata": {},
   "outputs": [],
   "source": []
  },
  {
   "cell_type": "code",
   "execution_count": null,
   "id": "8cbdf67c-797e-4187-a117-4820a70db92b",
   "metadata": {},
   "outputs": [],
   "source": []
  },
  {
   "cell_type": "code",
   "execution_count": null,
   "id": "10a3be48-0668-4bdd-b87d-f2e6c11a0e80",
   "metadata": {},
   "outputs": [],
   "source": []
  },
  {
   "cell_type": "code",
   "execution_count": null,
   "id": "d3e31732-1797-48b3-8807-41c8e9d119ef",
   "metadata": {},
   "outputs": [],
   "source": []
  },
  {
   "cell_type": "code",
   "execution_count": null,
   "id": "1a530758-95bf-4226-9329-0f5624d0f0ef",
   "metadata": {},
   "outputs": [],
   "source": []
  },
  {
   "cell_type": "code",
   "execution_count": null,
   "id": "0d73f3d6-67b2-4fb9-8e9e-ae5f3bca9034",
   "metadata": {},
   "outputs": [],
   "source": []
  }
 ],
 "metadata": {
  "kernelspec": {
   "display_name": "Python 3 (ipykernel)",
   "language": "python",
   "name": "python3"
  },
  "language_info": {
   "codemirror_mode": {
    "name": "ipython",
    "version": 3
   },
   "file_extension": ".py",
   "mimetype": "text/x-python",
   "name": "python",
   "nbconvert_exporter": "python",
   "pygments_lexer": "ipython3",
   "version": "3.11.7"
  }
 },
 "nbformat": 4,
 "nbformat_minor": 5
}
