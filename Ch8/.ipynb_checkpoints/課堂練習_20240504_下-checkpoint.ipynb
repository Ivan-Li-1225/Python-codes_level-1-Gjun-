{
 "cells": [
  {
   "cell_type": "code",
   "execution_count": 5,
   "id": "51f0cd35-a872-4e48-92bc-02d300f28b3a",
   "metadata": {},
   "outputs": [
    {
     "name": "stdout",
     "output_type": "stream",
     "text": [
      "{'people': [{'name': 'Scott', 'website': 'stackabuse.com', 'from': 'Nebraska'}, {'name': 'Larry', 'website': 'google.com', 'from': 'Michigan'}]}\n"
     ]
    }
   ],
   "source": [
    "import json\n",
    "data = { }\n",
    "data['people'] = [ ]\n",
    "data['people'].append({\n",
    "    'name': 'Scott',\n",
    "    'website': 'stackabuse.com',\n",
    "    'from': 'Nebraska'\n",
    "})\n",
    "data['people'].append({\n",
    "    'name': 'Larry',\n",
    "    'website': 'google.com',\n",
    "    'from': 'Michigan'\n",
    "})\n",
    "print(data)\n",
    "\n",
    "with open(\"data.json\", \"w\", encoding = \"utf-8\") as outfile:\n",
    "    json.dump(data, outfile, ensure_ascii=False, indent=2)  # indent=x (空X格)"
   ]
  },
  {
   "cell_type": "markdown",
   "id": "30881b73-f070-45f1-8714-7b95f734fd0f",
   "metadata": {},
   "source": [
    "## json轉換物件(讀檔)"
   ]
  },
  {
   "cell_type": "code",
   "execution_count": 7,
   "id": "f1277c95-5064-4602-b65f-a98f3e0f12b0",
   "metadata": {},
   "outputs": [
    {
     "name": "stdout",
     "output_type": "stream",
     "text": [
      "{'python': 'good', 'gjun': 100, 'python-class': True, 'ICQ': None}\n",
      "<class 'dict'>\n",
      "100\n"
     ]
    }
   ],
   "source": [
    "import json\n",
    "json1 = '{\"python\":\"good\",\"gjun\":100,\"python-class\":true,\"ICQ\":null}'\n",
    "json2 = json.loads(json1)\n",
    "print(json2)\n",
    "print(type(json2))\n",
    "print(json2[\"gjun\"])"
   ]
  },
  {
   "cell_type": "markdown",
   "id": "c02ab5cb-01e7-4700-83f3-b00eeb6476da",
   "metadata": {},
   "source": [
    "## json轉換成Python"
   ]
  },
  {
   "cell_type": "code",
   "execution_count": 8,
   "id": "1d58c366-61e4-4778-ae3e-4f97fd635d60",
   "metadata": {},
   "outputs": [
    {
     "name": "stdout",
     "output_type": "stream",
     "text": [
      "people-[{'name': 'Scott', 'website': 'stackabuse.com', 'from': 'Nebraska'}, {'name': 'Larry', 'website': 'google.com', 'from': 'Michigan'}]\n"
     ]
    }
   ],
   "source": [
    "import json\n",
    "with open(\"data.json\",\"r\",encoding=\"utf-8\") as jsonFile:\n",
    "    data = json.load(jsonFile)  \n",
    "    for k in  data:\n",
    "        print(f\"{k}-{data[k]}\")"
   ]
  },
  {
   "cell_type": "markdown",
   "id": "4bbbb56c-fcb3-4132-8c60-0b0f9cf2d831",
   "metadata": {},
   "source": [
    "## 壓縮檔案(建立)"
   ]
  },
  {
   "cell_type": "code",
   "execution_count": 9,
   "id": "a3d07da2-8f87-4b15-85de-8cb1bc13938d",
   "metadata": {},
   "outputs": [
    {
     "name": "stdout",
     "output_type": "stream",
     "text": [
      "建立目錄\n",
      "完成附加檔案\n",
      "完成附加檔案\n",
      "查看目錄內容\n"
     ]
    },
    {
     "data": {
      "text/plain": [
       "['test2.txt', 'test3.txt']"
      ]
     },
     "execution_count": 9,
     "metadata": {},
     "output_type": "execute_result"
    }
   ],
   "source": [
    "import shutil\n",
    "import os\n",
    "try:\n",
    "    os.mkdir('test2')\n",
    "    print('建立目錄')\n",
    "except:\n",
    "    print('建立目錄失敗')\n",
    "\n",
    "with open('./test2/test2.txt', 'a') as file2:\n",
    "    file2.write('Programming is Fun.')\n",
    "    print('完成附加檔案')\n",
    "    \n",
    "with open('./test2/test3.txt', 'a') as file2:\n",
    "    file2.write('Programiz for beginners')\n",
    "    print('完成附加檔案')\n",
    "    \n",
    "print('查看目錄內容')\n",
    "os.listdir('./test2')"
   ]
  },
  {
   "cell_type": "markdown",
   "id": "275b43a7-7881-4225-9213-1bb1f1020657",
   "metadata": {},
   "source": [
    "## 壓縮資料 & 解壓縮資料"
   ]
  },
  {
   "cell_type": "code",
   "execution_count": 10,
   "id": "90c545f4-73a0-4928-97b0-76f40535d631",
   "metadata": {},
   "outputs": [
    {
     "name": "stdout",
     "output_type": "stream",
     "text": [
      "壓縮資料\n",
      "查看壓縮資料\n",
      "['test2/test2.txt', 'test2/test3.txt']\n",
      "刪除目錄\n",
      "解壓縮資料\n"
     ]
    }
   ],
   "source": [
    "import zipfile\n",
    "def create_zip(path):\n",
    "  zf = zipfile.ZipFile(f'{path}.zip', 'w', zipfile.ZIP_DEFLATED)\n",
    "  for root, dirs, files in os.walk(path):\n",
    "    for file_name in files:\n",
    "      zf.write(os.path.join(root, file_name))\n",
    "def ziplist(file_path):\n",
    "  zf = zipfile.ZipFile(file_path, 'r')\n",
    "  print(zf.namelist())\n",
    "def extra_zip(file_path):\n",
    "  zf = zipfile.ZipFile(file_path, 'r')\n",
    "  zf.extractall()\n",
    "\n",
    "try:\n",
    "  print('壓縮資料')\n",
    "  create_zip('test2')\n",
    "except:\n",
    "  print('壓縮失敗')\n",
    "\n",
    "try:\n",
    "  print('查看壓縮資料')\n",
    "  ziplist('test2.zip')\n",
    "except:\n",
    "  print('查看壓縮資料失敗')\n",
    "\n",
    "try:\n",
    "  print('刪除目錄')\n",
    "  shutil.rmtree(\"test2\")\n",
    "except:\n",
    "  print('刪除目錄失敗')\n",
    "\n",
    "try:\n",
    "  print('解壓縮資料')\n",
    "  extra_zip('test2.zip')\n",
    "except:\n",
    "  print('解壓縮失敗')"
   ]
  },
  {
   "cell_type": "markdown",
   "id": "746cebba-49ff-4109-a06c-741d63f53e4c",
   "metadata": {},
   "source": [
    "## 爬蟲\n",
    "\n",
    "套件安裝\n",
    "pip install beautifulsoup4\n",
    "pip install html5lib"
   ]
  },
  {
   "cell_type": "markdown",
   "id": "625412e9-f0e7-4415-8c75-d6427f4e5ed0",
   "metadata": {},
   "source": [
    "## BeautifulSoup Base\n",
    "find() 只找第一個符合條件的\n",
    "\n",
    "https://www.crummy.com/software/BeautifulSoup/bs4/doc.zh/#find-all\n",
    "\n",
    "find_all() 找所有符合條件的\n",
    "\n",
    "select_one() 只找一個符合條件的可直接使用css語法\n",
    "\n",
    "select() 找所有符合條件的可使用css語法"
   ]
  },
  {
   "cell_type": "code",
   "execution_count": 11,
   "id": "044d89ed-65be-4382-a2e4-6cead8b762f8",
   "metadata": {},
   "outputs": [],
   "source": [
    "from bs4 import BeautifulSoup"
   ]
  },
  {
   "cell_type": "code",
   "execution_count": 15,
   "id": "53a9b401-1395-40d7-92aa-2663bb4d616a",
   "metadata": {},
   "outputs": [
    {
     "name": "stdout",
     "output_type": "stream",
     "text": [
      "<a class=\"c1\" id=\"a2\">V2</a>\n",
      "[<a class=\"c1\" id=\"a1\">V1</a>, <a class=\"c1\" id=\"a2\">V2</a>]\n",
      "<a class=\"c1\" id=\"a1\">V1</a>\n",
      "[<a class=\"c1\" id=\"a1\">V1</a>, <a class=\"c1\" id=\"a2\">V2</a>]\n"
     ]
    }
   ],
   "source": [
    "html='''<a id='a1' class=\"c1\">V1</a>\n",
    "<a id='a2' class=\"c1\">V2</a>\n",
    "<a id='a3' class=\"c3\">V3</a>\n",
    "'''\n",
    "soup = BeautifulSoup(html,\"html5lib\")\n",
    "obj1 = soup.find(id = \"a2\")\n",
    "print(obj1)\n",
    "obj2 = soup.find_all(class_=\"c1\")  # class=類別(python關鍵字), 無法單獨使用, 故需加\"_\"\n",
    "print(obj2)\n",
    "\n",
    "print(soup.select_one(\"#a1\"))\n",
    "print(soup.select(\".c1\"))"
   ]
  },
  {
   "cell_type": "markdown",
   "id": "a2d79cf4-b51c-46a7-b4ee-946ebff86f8f",
   "metadata": {},
   "source": [
    "## 取網頁資料"
   ]
  },
  {
   "cell_type": "code",
   "execution_count": 3,
   "id": "a0a59e5c-e36c-435c-8e73-c04eebed142d",
   "metadata": {},
   "outputs": [
    {
     "name": "stdout",
     "output_type": "stream",
     "text": [
      "Google\n",
      "Google\n",
      "https://facebook.com\n"
     ]
    }
   ],
   "source": [
    "from bs4 import BeautifulSoup\n",
    "html='''<a id='a1' class=\"c1\" href=\"https://google.com\">Google</a>\n",
    "<a id='a2' class=\"c1\"  href=\"https://yahoo.com\">Yahoo</a>\n",
    "<a id='a3' class=\"c3\" href=\"https://facebook.com\">Facebook</a>\n",
    "'''\n",
    "soup = BeautifulSoup(html, \"html5lib\")\n",
    "print(soup.find(id=\"a1\").text) # method-1\n",
    "print(soup.find(id=\"a1\").getText()) # method-2\n",
    "print(soup.find(id=\"a3\").get(\"href\"))"
   ]
  },
  {
   "cell_type": "code",
   "execution_count": 9,
   "id": "220031dc-00d3-4d54-9bec-855f2cef1307",
   "metadata": {},
   "outputs": [
    {
     "name": "stdout",
     "output_type": "stream",
     "text": [
      "https://google.com Google\n",
      "https://yahoo.com Yahoo\n"
     ]
    }
   ],
   "source": [
    "tmpList = soup.find_all(class_ = \"c1\")\n",
    "for tag in tmpList:\n",
    "    print(tag.get(\"href\"),tag.getText())\n",
    "   "
   ]
  },
  {
   "cell_type": "code",
   "execution_count": 18,
   "id": "a8711328-975e-482b-bb7f-70f19323fca8",
   "metadata": {},
   "outputs": [
    {
     "name": "stdout",
     "output_type": "stream",
     "text": [
      "<tbody><tr>\n",
      "<th>排名</th>\n",
      "<th>片名</th>\n",
      "<th>發行商</th>\n",
      "<th>全球票房\n",
      "</th></tr>\n",
      "<tr>\n",
      "<th>1\n",
      "</th>\n",
      "<td style=\"background:#b6fcb6;\">《<a href=\"/wiki/%E6%B2%99%E4%B8%98%EF%BC%9A%E7%AC%AC%E4%BA%8C%E9%83%A8\" title=\"沙丘：第二部\">沙丘：第二部</a>》 <span class=\"mw-default-size\" typeof=\"mw:File\"><span><img alt=\"film currently playing\" class=\"mw-file-element\" data-file-height=\"14\" data-file-width=\"9\" decoding=\"async\" height=\"14\" src=\"//upload.wikimedia.org/wikipedia/commons/3/37/Dagger-14-plain.png\" width=\"9\"/></span></span>\n",
      "</td>\n",
      "<td><a href=\"/wiki/%E5%8D%8E%E7%BA%B3%E5%85%84%E5%BC%9F%E5%BD%B1%E4%B8%9A\" title=\"華納兄弟影業\">華納兄弟影業</a>\n",
      "</td>\n",
      "<td>$704,747,649\n",
      "</td></tr>\n",
      "<tr>\n",
      "<th>2\n",
      "</th>\n",
      "<td style=\"background:#b6fcb6;\">《<a href=\"/wiki/%E5%93%A5%E5%90%89%E6%8B%89%E8%88%87%E9%87%91%E5%89%9B%EF%BC%9A%E6%96%B0%E5%B8%9D%E5%9C%8B\" title=\"哥吉拉與金剛：新帝國\">哥吉拉與金剛：新帝國</a>》 <span class=\"mw-default-size\" typeof=\"mw:File\"><span><img alt=\"film currently playing\" class=\"mw-file-element\" data-file-height=\"14\" data-file-width=\"9\" decoding=\"async\" height=\"14\" src=\"//upload.wikimedia.org/wikipedia/commons/3/37/Dagger-14-plain.png\" width=\"9\"/></span></span>\n",
      "</td>\n",
      "<td><a href=\"/wiki/%E5%8D%8E%E7%BA%B3%E5%85%84%E5%BC%9F%E5%BD%B1%E4%B8%9A\" title=\"華納兄弟影業\">華納兄弟影業</a> / <a href=\"/wiki/%E6%9D%B1%E5%AF%B6\" title=\"東寶\">東寶</a>\n",
      "</td>\n",
      "<td>$522,403,756\n",
      "</td></tr>\n",
      "<tr>\n",
      "<th>3\n",
      "</th>\n",
      "<td style=\"background:#b6fcb6;\">《<a href=\"/wiki/%E5%8A%9F%E5%A4%AB%E7%86%8A%E8%B2%934\" title=\"功夫熊貓4\">功夫熊貓4</a>》 <span class=\"mw-default-size\" typeof=\"mw:File\"><span><img alt=\"film currently playing\" class=\"mw-file-element\" data-file-height=\"14\" data-file-width=\"9\" decoding=\"async\" height=\"14\" src=\"//upload.wikimedia.org/wikipedia/commons/3/37/Dagger-14-plain.png\" width=\"9\"/></span></span>\n",
      "</td>\n",
      "<td><a href=\"/wiki/%E7%8E%AF%E7%90%83%E5%BD%B1%E4%B8%9A\" title=\"環球影業\">環球影業</a>\n",
      "</td>\n",
      "<td>$506,804,224\n",
      "</td></tr>\n",
      "<tr>\n",
      "<th>4\n",
      "</th>\n",
      "<td style=\"background:#b6fcb6;\">《<a href=\"/wiki/%E7%83%AD%E8%BE%A3%E6%BB%9A%E7%83%AB\" title=\"熱辣滾燙\">熱辣滾燙</a>》 <span class=\"mw-default-size\" typeof=\"mw:File\"><span><img alt=\"film currently playing\" class=\"mw-file-element\" data-file-height=\"14\" data-file-width=\"9\" decoding=\"async\" height=\"14\" src=\"//upload.wikimedia.org/wikipedia/commons/3/37/Dagger-14-plain.png\" width=\"9\"/></span></span>\n",
      "</td>\n",
      "<td><a href=\"/wiki/%E4%B8%AD%E5%9B%BD%E7%94%B5%E5%BD%B1%E9%9B%86%E5%9B%A2\" title=\"中國電影集團\">中國電影集團</a>\n",
      "</td>\n",
      "<td>$479,596,986\n",
      "</td></tr>\n",
      "<tr>\n",
      "<th>5\n",
      "</th>\n",
      "<td style=\"background:#b6fcb6;\">《<a href=\"/wiki/%E9%A3%9E%E9%A9%B0%E4%BA%BA%E7%94%9F2\" title=\"飛馳人生2\">飛馳人生2</a>》 <span class=\"mw-default-size\" typeof=\"mw:File\"><span><img alt=\"film currently playing\" class=\"mw-file-element\" data-file-height=\"14\" data-file-width=\"9\" decoding=\"async\" height=\"14\" src=\"//upload.wikimedia.org/wikipedia/commons/3/37/Dagger-14-plain.png\" width=\"9\"/></span></span>\n",
      "</td>\n",
      "<td><a href=\"/wiki/%E5%A4%A9%E6%B4%A5%E7%8C%AB%E7%9C%BC%E5%BE%AE%E5%BD%B1%E6%96%87%E5%8C%96%E4%BC%A0%E5%AA%92\" title=\"天津貓眼微影文化傳媒\">天津貓眼微影文化傳媒</a>\n",
      "</td>\n",
      "<td>$468,849,262\n",
      "</td></tr>\n",
      "<tr>\n",
      "<th>6\n",
      "</th>\n",
      "<td style=\"background:#b6fcb6;\">《<a href=\"/wiki/%E7%AC%AC%E4%BA%8C%E5%8D%81%E6%9D%A1\" title=\"第二十條\">第二十條</a>》 <span class=\"mw-default-size\" typeof=\"mw:File\"><span><img alt=\"film currently playing\" class=\"mw-file-element\" data-file-height=\"14\" data-file-width=\"9\" decoding=\"async\" height=\"14\" src=\"//upload.wikimedia.org/wikipedia/commons/3/37/Dagger-14-plain.png\" width=\"9\"/></span></span>\n",
      "</td>\n",
      "<td><a class=\"mw-redirect\" href=\"/wiki/%E5%85%89%E7%BA%BF%E5%BD%B1%E4%B8%9A\" title=\"光線影業\">光線影業</a>\n",
      "</td>\n",
      "<td>$338,812,257\n",
      "</td></tr>\n",
      "<tr>\n",
      "<th>7\n",
      "</th>\n",
      "<td style=\"background:#b6fcb6;\">《<a href=\"/wiki/%E7%86%8A%E5%87%BA%E6%B2%A1%C2%B7%E9%80%86%E8%BD%AC%E6%97%B6%E7%A9%BA\" title=\"熊出沒·逆轉時空\">熊出沒·逆轉時空</a>》 <span class=\"mw-default-size\" typeof=\"mw:File\"><span><img alt=\"film currently playing\" class=\"mw-file-element\" data-file-height=\"14\" data-file-width=\"9\" decoding=\"async\" height=\"14\" src=\"//upload.wikimedia.org/wikipedia/commons/3/37/Dagger-14-plain.png\" width=\"9\"/></span></span>\n",
      "</td>\n",
      "<td><a href=\"/wiki/%E5%8D%8E%E5%BC%BA%E6%96%B9%E7%89%B9\" title=\"華強方特\">華強方特</a>\n",
      "</td>\n",
      "<td>$274,013,872\n",
      "</td></tr>\n",
      "<tr>\n",
      "<th>8\n",
      "</th>\n",
      "<td style=\"background:#b6fcb6;\">《<a href=\"/wiki/%E6%8D%89%E9%AC%BC%E6%95%A2%E6%AD%BB%E9%9A%8A%EF%BC%9A%E5%86%B0%E5%B0%81%E9%AD%85%E4%BE%86\" title=\"魔鬼剋星：冰天凍地\">魔鬼剋星：冰天凍地</a>》 <span class=\"mw-default-size\" typeof=\"mw:File\"><span><img alt=\"film currently playing\" class=\"mw-file-element\" data-file-height=\"14\" data-file-width=\"9\" decoding=\"async\" height=\"14\" src=\"//upload.wikimedia.org/wikipedia/commons/3/37/Dagger-14-plain.png\" width=\"9\"/></span></span>\n",
      "</td>\n",
      "<td><a href=\"/wiki/%E7%B4%A2%E5%B0%BC%E5%BD%B1%E8%A6%96%E5%A8%9B%E6%A8%82\" title=\"索尼影視娛樂\">索尼影視娛樂</a>\n",
      "</td>\n",
      "<td>$188,414,063\n",
      "</td></tr>\n",
      "<tr>\n",
      "<th>9\n",
      "</th>\n",
      "<td style=\"background:#b6fcb6;\">《<a href=\"/wiki/%E9%9F%B3%E6%A8%82%E5%82%B3%E5%A5%87%E5%8D%9C%E9%A6%AC%E5%88%A9%EF%BC%9A%E4%BA%BA%E7%94%9F%E6%84%9B%E8%88%87%E5%A4%A2\" title=\"音樂傳奇卜馬利：人生愛與夢\">音樂傳奇卜馬利：人生愛與夢</a>》 <span class=\"mw-default-size\" typeof=\"mw:File\"><span><img alt=\"film currently playing\" class=\"mw-file-element\" data-file-height=\"14\" data-file-width=\"9\" decoding=\"async\" height=\"14\" src=\"//upload.wikimedia.org/wikipedia/commons/3/37/Dagger-14-plain.png\" width=\"9\"/></span></span>\n",
      "</td>\n",
      "<td><a href=\"/wiki/%E6%B4%BE%E6%8B%89%E8%92%99%E5%BD%B1%E6%A5%AD\" title=\"派拉蒙影業\">派拉蒙影業</a>\n",
      "</td>\n",
      "<td>$177,170,413\n",
      "</td></tr>\n",
      "<tr>\n",
      "<th>10\n",
      "</th>\n",
      "<td style=\"background:#b6fcb6;\">《<a href=\"/wiki/%E8%9C%82%E5%88%91%E8%80%85\" title=\"蜂刑者\">蜂刑者</a>》 <span class=\"mw-default-size\" typeof=\"mw:File\"><span><img alt=\"film currently playing\" class=\"mw-file-element\" data-file-height=\"14\" data-file-width=\"9\" decoding=\"async\" height=\"14\" src=\"//upload.wikimedia.org/wikipedia/commons/3/37/Dagger-14-plain.png\" width=\"9\"/></span></span>\n",
      "</td>\n",
      "<td><a href=\"/wiki/%E4%BA%9E%E9%A6%AC%E9%81%9C%E7%B1%B3%E9%AB%98%E6%A2%85%E5%B7%A5%E4%BD%9C%E5%AE%A4\" title=\"亞馬遜米高梅工作室\">亞馬遜米高梅工作室</a>\n",
      "</td>\n",
      "<td>$152,720,535\n",
      "</td></tr>\n",
      "</tbody>\n",
      "[<tr>\n",
      "<th>排名</th>\n",
      "<th>片名</th>\n",
      "<th>發行商</th>\n",
      "<th>全球票房\n",
      "</th></tr>, <tr>\n",
      "<th>1\n",
      "</th>\n",
      "<td style=\"background:#b6fcb6;\">《<a href=\"/wiki/%E6%B2%99%E4%B8%98%EF%BC%9A%E7%AC%AC%E4%BA%8C%E9%83%A8\" title=\"沙丘：第二部\">沙丘：第二部</a>》 <span class=\"mw-default-size\" typeof=\"mw:File\"><span><img alt=\"film currently playing\" class=\"mw-file-element\" data-file-height=\"14\" data-file-width=\"9\" decoding=\"async\" height=\"14\" src=\"//upload.wikimedia.org/wikipedia/commons/3/37/Dagger-14-plain.png\" width=\"9\"/></span></span>\n",
      "</td>\n",
      "<td><a href=\"/wiki/%E5%8D%8E%E7%BA%B3%E5%85%84%E5%BC%9F%E5%BD%B1%E4%B8%9A\" title=\"華納兄弟影業\">華納兄弟影業</a>\n",
      "</td>\n",
      "<td>$704,747,649\n",
      "</td></tr>, <tr>\n",
      "<th>2\n",
      "</th>\n",
      "<td style=\"background:#b6fcb6;\">《<a href=\"/wiki/%E5%93%A5%E5%90%89%E6%8B%89%E8%88%87%E9%87%91%E5%89%9B%EF%BC%9A%E6%96%B0%E5%B8%9D%E5%9C%8B\" title=\"哥吉拉與金剛：新帝國\">哥吉拉與金剛：新帝國</a>》 <span class=\"mw-default-size\" typeof=\"mw:File\"><span><img alt=\"film currently playing\" class=\"mw-file-element\" data-file-height=\"14\" data-file-width=\"9\" decoding=\"async\" height=\"14\" src=\"//upload.wikimedia.org/wikipedia/commons/3/37/Dagger-14-plain.png\" width=\"9\"/></span></span>\n",
      "</td>\n",
      "<td><a href=\"/wiki/%E5%8D%8E%E7%BA%B3%E5%85%84%E5%BC%9F%E5%BD%B1%E4%B8%9A\" title=\"華納兄弟影業\">華納兄弟影業</a> / <a href=\"/wiki/%E6%9D%B1%E5%AF%B6\" title=\"東寶\">東寶</a>\n",
      "</td>\n",
      "<td>$522,403,756\n",
      "</td></tr>, <tr>\n",
      "<th>3\n",
      "</th>\n",
      "<td style=\"background:#b6fcb6;\">《<a href=\"/wiki/%E5%8A%9F%E5%A4%AB%E7%86%8A%E8%B2%934\" title=\"功夫熊貓4\">功夫熊貓4</a>》 <span class=\"mw-default-size\" typeof=\"mw:File\"><span><img alt=\"film currently playing\" class=\"mw-file-element\" data-file-height=\"14\" data-file-width=\"9\" decoding=\"async\" height=\"14\" src=\"//upload.wikimedia.org/wikipedia/commons/3/37/Dagger-14-plain.png\" width=\"9\"/></span></span>\n",
      "</td>\n",
      "<td><a href=\"/wiki/%E7%8E%AF%E7%90%83%E5%BD%B1%E4%B8%9A\" title=\"環球影業\">環球影業</a>\n",
      "</td>\n",
      "<td>$506,804,224\n",
      "</td></tr>, <tr>\n",
      "<th>4\n",
      "</th>\n",
      "<td style=\"background:#b6fcb6;\">《<a href=\"/wiki/%E7%83%AD%E8%BE%A3%E6%BB%9A%E7%83%AB\" title=\"熱辣滾燙\">熱辣滾燙</a>》 <span class=\"mw-default-size\" typeof=\"mw:File\"><span><img alt=\"film currently playing\" class=\"mw-file-element\" data-file-height=\"14\" data-file-width=\"9\" decoding=\"async\" height=\"14\" src=\"//upload.wikimedia.org/wikipedia/commons/3/37/Dagger-14-plain.png\" width=\"9\"/></span></span>\n",
      "</td>\n",
      "<td><a href=\"/wiki/%E4%B8%AD%E5%9B%BD%E7%94%B5%E5%BD%B1%E9%9B%86%E5%9B%A2\" title=\"中國電影集團\">中國電影集團</a>\n",
      "</td>\n",
      "<td>$479,596,986\n",
      "</td></tr>, <tr>\n",
      "<th>5\n",
      "</th>\n",
      "<td style=\"background:#b6fcb6;\">《<a href=\"/wiki/%E9%A3%9E%E9%A9%B0%E4%BA%BA%E7%94%9F2\" title=\"飛馳人生2\">飛馳人生2</a>》 <span class=\"mw-default-size\" typeof=\"mw:File\"><span><img alt=\"film currently playing\" class=\"mw-file-element\" data-file-height=\"14\" data-file-width=\"9\" decoding=\"async\" height=\"14\" src=\"//upload.wikimedia.org/wikipedia/commons/3/37/Dagger-14-plain.png\" width=\"9\"/></span></span>\n",
      "</td>\n",
      "<td><a href=\"/wiki/%E5%A4%A9%E6%B4%A5%E7%8C%AB%E7%9C%BC%E5%BE%AE%E5%BD%B1%E6%96%87%E5%8C%96%E4%BC%A0%E5%AA%92\" title=\"天津貓眼微影文化傳媒\">天津貓眼微影文化傳媒</a>\n",
      "</td>\n",
      "<td>$468,849,262\n",
      "</td></tr>, <tr>\n",
      "<th>6\n",
      "</th>\n",
      "<td style=\"background:#b6fcb6;\">《<a href=\"/wiki/%E7%AC%AC%E4%BA%8C%E5%8D%81%E6%9D%A1\" title=\"第二十條\">第二十條</a>》 <span class=\"mw-default-size\" typeof=\"mw:File\"><span><img alt=\"film currently playing\" class=\"mw-file-element\" data-file-height=\"14\" data-file-width=\"9\" decoding=\"async\" height=\"14\" src=\"//upload.wikimedia.org/wikipedia/commons/3/37/Dagger-14-plain.png\" width=\"9\"/></span></span>\n",
      "</td>\n",
      "<td><a class=\"mw-redirect\" href=\"/wiki/%E5%85%89%E7%BA%BF%E5%BD%B1%E4%B8%9A\" title=\"光線影業\">光線影業</a>\n",
      "</td>\n",
      "<td>$338,812,257\n",
      "</td></tr>, <tr>\n",
      "<th>7\n",
      "</th>\n",
      "<td style=\"background:#b6fcb6;\">《<a href=\"/wiki/%E7%86%8A%E5%87%BA%E6%B2%A1%C2%B7%E9%80%86%E8%BD%AC%E6%97%B6%E7%A9%BA\" title=\"熊出沒·逆轉時空\">熊出沒·逆轉時空</a>》 <span class=\"mw-default-size\" typeof=\"mw:File\"><span><img alt=\"film currently playing\" class=\"mw-file-element\" data-file-height=\"14\" data-file-width=\"9\" decoding=\"async\" height=\"14\" src=\"//upload.wikimedia.org/wikipedia/commons/3/37/Dagger-14-plain.png\" width=\"9\"/></span></span>\n",
      "</td>\n",
      "<td><a href=\"/wiki/%E5%8D%8E%E5%BC%BA%E6%96%B9%E7%89%B9\" title=\"華強方特\">華強方特</a>\n",
      "</td>\n",
      "<td>$274,013,872\n",
      "</td></tr>, <tr>\n",
      "<th>8\n",
      "</th>\n",
      "<td style=\"background:#b6fcb6;\">《<a href=\"/wiki/%E6%8D%89%E9%AC%BC%E6%95%A2%E6%AD%BB%E9%9A%8A%EF%BC%9A%E5%86%B0%E5%B0%81%E9%AD%85%E4%BE%86\" title=\"魔鬼剋星：冰天凍地\">魔鬼剋星：冰天凍地</a>》 <span class=\"mw-default-size\" typeof=\"mw:File\"><span><img alt=\"film currently playing\" class=\"mw-file-element\" data-file-height=\"14\" data-file-width=\"9\" decoding=\"async\" height=\"14\" src=\"//upload.wikimedia.org/wikipedia/commons/3/37/Dagger-14-plain.png\" width=\"9\"/></span></span>\n",
      "</td>\n",
      "<td><a href=\"/wiki/%E7%B4%A2%E5%B0%BC%E5%BD%B1%E8%A6%96%E5%A8%9B%E6%A8%82\" title=\"索尼影視娛樂\">索尼影視娛樂</a>\n",
      "</td>\n",
      "<td>$188,414,063\n",
      "</td></tr>, <tr>\n",
      "<th>9\n",
      "</th>\n",
      "<td style=\"background:#b6fcb6;\">《<a href=\"/wiki/%E9%9F%B3%E6%A8%82%E5%82%B3%E5%A5%87%E5%8D%9C%E9%A6%AC%E5%88%A9%EF%BC%9A%E4%BA%BA%E7%94%9F%E6%84%9B%E8%88%87%E5%A4%A2\" title=\"音樂傳奇卜馬利：人生愛與夢\">音樂傳奇卜馬利：人生愛與夢</a>》 <span class=\"mw-default-size\" typeof=\"mw:File\"><span><img alt=\"film currently playing\" class=\"mw-file-element\" data-file-height=\"14\" data-file-width=\"9\" decoding=\"async\" height=\"14\" src=\"//upload.wikimedia.org/wikipedia/commons/3/37/Dagger-14-plain.png\" width=\"9\"/></span></span>\n",
      "</td>\n",
      "<td><a href=\"/wiki/%E6%B4%BE%E6%8B%89%E8%92%99%E5%BD%B1%E6%A5%AD\" title=\"派拉蒙影業\">派拉蒙影業</a>\n",
      "</td>\n",
      "<td>$177,170,413\n",
      "</td></tr>, <tr>\n",
      "<th>10\n",
      "</th>\n",
      "<td style=\"background:#b6fcb6;\">《<a href=\"/wiki/%E8%9C%82%E5%88%91%E8%80%85\" title=\"蜂刑者\">蜂刑者</a>》 <span class=\"mw-default-size\" typeof=\"mw:File\"><span><img alt=\"film currently playing\" class=\"mw-file-element\" data-file-height=\"14\" data-file-width=\"9\" decoding=\"async\" height=\"14\" src=\"//upload.wikimedia.org/wikipedia/commons/3/37/Dagger-14-plain.png\" width=\"9\"/></span></span>\n",
      "</td>\n",
      "<td><a href=\"/wiki/%E4%BA%9E%E9%A6%AC%E9%81%9C%E7%B1%B3%E9%AB%98%E6%A2%85%E5%B7%A5%E4%BD%9C%E5%AE%A4\" title=\"亞馬遜米高梅工作室\">亞馬遜米高梅工作室</a>\n",
      "</td>\n",
      "<td>$152,720,535\n",
      "</td></tr>]\n"
     ]
    }
   ],
   "source": [
    "import requests\n",
    "from bs4 import BeautifulSoup\n",
    "url = \"https://zh.wikipedia.org/zh-tw/2024年电影\"\n",
    "# print(url)\n",
    "resp = requests.get(url)\n",
    "resp.encoding = \"utf-8\"\n",
    "# print(resp.text)\n",
    "soup = BeautifulSoup(resp.text, \"html5lib\")\n",
    "movieTable = soup.find(\"table\",class_=\"wikitable sortable\")\n",
    "tbody = movieTable.find(\"tbody\")\n",
    "# print(tbody)\n",
    "trList = tbody.find_all(\"tr\")\n",
    "# print(trList)\n",
    "for inx in range(1,len(trList)):\n",
    "    print(\"排名:\",trList[inx].find(\"th\").text,end=\"\")\n",
    "    print(\"片名:\",trList[inx].select_one(\"a\").text)\n",
    "    print(\"全球票房:\",trList[inx].find_all(\"td\")[2].text)"
   ]
  },
  {
   "cell_type": "code",
   "execution_count": 19,
   "id": "986aac01-d493-482e-8e02-6c0db87b8cbb",
   "metadata": {},
   "outputs": [
    {
     "name": "stdout",
     "output_type": "stream",
     "text": [
      "排名: 1\n",
      "片名: 沙丘：第二部\n",
      "全球票房: $704,747,649\n",
      "\n",
      "排名: 2\n",
      "片名: 哥吉拉與金剛：新帝國\n",
      "全球票房: $522,403,756\n",
      "\n",
      "排名: 3\n",
      "片名: 功夫熊貓4\n",
      "全球票房: $506,804,224\n",
      "\n",
      "排名: 4\n",
      "片名: 熱辣滾燙\n",
      "全球票房: $479,596,986\n",
      "\n",
      "排名: 5\n",
      "片名: 飛馳人生2\n",
      "全球票房: $468,849,262\n",
      "\n",
      "排名: 6\n",
      "片名: 第二十條\n",
      "全球票房: $338,812,257\n",
      "\n",
      "排名: 7\n",
      "片名: 熊出沒·逆轉時空\n",
      "全球票房: $274,013,872\n",
      "\n",
      "排名: 8\n",
      "片名: 魔鬼剋星：冰天凍地\n",
      "全球票房: $188,414,063\n",
      "\n",
      "排名: 9\n",
      "片名: 音樂傳奇卜馬利：人生愛與夢\n",
      "全球票房: $177,170,413\n",
      "\n",
      "排名: 10\n",
      "片名: 蜂刑者\n",
      "全球票房: $152,720,535\n",
      "\n"
     ]
    }
   ],
   "source": [
    "for inx in range(1,len(trList)):\n",
    "    print(\"排名:\",trList[inx].find(\"th\").text,end=\"\")\n",
    "    print(\"片名:\",trList[inx].select_one(\"a\").text)\n",
    "    print(\"全球票房:\",trList[inx].find_all(\"td\")[2].text)"
   ]
  },
  {
   "cell_type": "markdown",
   "id": "c33cfce0-6816-4941-9dd0-e4922bdba203",
   "metadata": {},
   "source": [
    "## Numpy簡介"
   ]
  },
  {
   "cell_type": "code",
   "execution_count": null,
   "id": "24ac5f37-5d2b-4232-afc9-5cde9105c03a",
   "metadata": {},
   "outputs": [],
   "source": []
  }
 ],
 "metadata": {
  "kernelspec": {
   "display_name": "Python 3 (ipykernel)",
   "language": "python",
   "name": "python3"
  },
  "language_info": {
   "codemirror_mode": {
    "name": "ipython",
    "version": 3
   },
   "file_extension": ".py",
   "mimetype": "text/x-python",
   "name": "python",
   "nbconvert_exporter": "python",
   "pygments_lexer": "ipython3",
   "version": "3.11.7"
  }
 },
 "nbformat": 4,
 "nbformat_minor": 5
}
