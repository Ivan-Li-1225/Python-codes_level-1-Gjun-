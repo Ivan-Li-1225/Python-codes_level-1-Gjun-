{
 "cells": [
  {
   "cell_type": "markdown",
   "id": "c35e1135-8616-406c-801a-d21fbb4fa8b2",
   "metadata": {},
   "source": [
    "## 寫入檔案"
   ]
  },
  {
   "cell_type": "code",
   "execution_count": 5,
   "id": "bfa3baae-3b3c-46b7-9d84-0190b592199a",
   "metadata": {},
   "outputs": [],
   "source": [
    "file = open(\"myData.txt\", \"w\")\n",
    "file.write(\"Hello!!\")\n",
    "file.close()"
   ]
  },
  {
   "cell_type": "code",
   "execution_count": 6,
   "id": "74cd4af1-4807-460f-8dac-706efb13cc7d",
   "metadata": {},
   "outputs": [
    {
     "name": "stdout",
     "output_type": "stream",
     "text": [
      "添加完成\n"
     ]
    }
   ],
   "source": [
    "file = open(\"myData.txt\", \"a\")\n",
    "file.write(\"Python 3\")\n",
    "file.close()\n",
    "print(\"添加完成\")"
   ]
  },
  {
   "cell_type": "code",
   "execution_count": 8,
   "id": "e15d0425-f372-408b-97d3-0643517bf018",
   "metadata": {},
   "outputs": [
    {
     "name": "stdout",
     "output_type": "stream",
     "text": [
      "中文字(UTF-8)添加完成\n"
     ]
    }
   ],
   "source": [
    "file = open(\"myData.txt\", \"w\", encoding = \"utf-8\")\n",
    "file.write(\"犇\")\n",
    "file.close()\n",
    "print(\"中文字(UTF-8)添加完成\")"
   ]
  },
  {
   "cell_type": "code",
   "execution_count": 6,
   "id": "cd8714d2-5220-4273-9c64-5f4514ae1d1b",
   "metadata": {},
   "outputs": [
    {
     "name": "stdout",
     "output_type": "stream",
     "text": [
      "python與中文AAA\n",
      "1. 我們來試試看中文儲存能力。\n",
      "2. 許這個字會有編碼衝突風險。\n",
      "3. 犇這個字必須是utf8編碼才有。\n",
      "\n",
      "\n"
     ]
    }
   ],
   "source": [
    "f = open(\"data.txt\", \"r\", encoding = \"utf-8\")\n",
    "msg = f.read()\n",
    "print(msg)\n",
    "f.close()"
   ]
  },
  {
   "cell_type": "markdown",
   "id": "17e2fb11-0ce5-472e-a603-07bee331b43b",
   "metadata": {},
   "source": [
    "## 讀取檔案(csv)"
   ]
  },
  {
   "cell_type": "code",
   "execution_count": 11,
   "id": "6ce29417-0ca1-4a91-b85a-137e932ff2ba",
   "metadata": {},
   "outputs": [
    {
     "name": "stdout",
     "output_type": "stream",
     "text": [
      "2,104,640,545\n",
      "2,640,781,030\n",
      "2,983,756,821\n",
      "3,062,757,248\n",
      "3,314,147,435\n",
      "2,610,433,477\n",
      "3,595,611,551\n",
      "3,322,390,467\n",
      "2,969,248,375\n",
      "3,497,838,901\n",
      "3,184,795,667\n",
      "3,720,277,205\n",
      "4,088,756,925\n",
      "4,540,373,544\n",
      "5,486,734,180\n"
     ]
    }
   ],
   "source": [
    "import csv\n",
    "file1 = open(\"example1.csv\", \"r\")\n",
    "for row in csv.reader(file1):\n",
    "    print(row[1])\n",
    "file1.close()"
   ]
  },
  {
   "cell_type": "code",
   "execution_count": 15,
   "id": "bf495581-bbd4-49b0-a5de-c073064126d5",
   "metadata": {},
   "outputs": [
    {
     "name": "stdout",
     "output_type": "stream",
     "text": [
      "2,104,640,545\n",
      "2,640,781,030\n",
      "2,983,756,821\n",
      "3,062,757,248\n",
      "3,314,147,435\n",
      "2,610,433,477\n",
      "3,595,611,551\n",
      "3,322,390,467\n",
      "2,969,248,375\n",
      "3,497,838,901\n",
      "3,184,795,667\n",
      "3,720,277,205\n",
      "4,088,756,925\n",
      "4,540,373,544\n",
      "5,486,734,180\n"
     ]
    }
   ],
   "source": [
    "import csv\n",
    "file2 = open(\"example.csv\", \"r\", encoding = \"utf-8\")\n",
    "for row in csv.DictReader(file2):\n",
    "    print(row[\"成交股數\"])\n",
    "file2.close()"
   ]
  },
  {
   "cell_type": "code",
   "execution_count": 17,
   "id": "cfffde50-5d34-4dca-b07d-f893d568ffd7",
   "metadata": {},
   "outputs": [
    {
     "ename": "PermissionError",
     "evalue": "[WinError 32] 程序無法存取檔案，因為檔案正由另一個程序使用。: 'test.txt'",
     "output_type": "error",
     "traceback": [
      "\u001b[1;31m-------------------------------------------------------------------------\u001b[0m",
      "\u001b[1;31mPermissionError\u001b[0m                         Traceback (most recent call last)",
      "Cell \u001b[1;32mIn[17], line 9\u001b[0m\n\u001b[0;32m      7\u001b[0m t \u001b[38;5;241m=\u001b[39m TestFile()\n\u001b[0;32m      8\u001b[0m t\u001b[38;5;241m.\u001b[39mopenFile(\u001b[38;5;124m\"\u001b[39m\u001b[38;5;124mtest.txt\u001b[39m\u001b[38;5;124m\"\u001b[39m)\n\u001b[1;32m----> 9\u001b[0m os\u001b[38;5;241m.\u001b[39mremove(\u001b[38;5;124m\"\u001b[39m\u001b[38;5;124mtest.txt\u001b[39m\u001b[38;5;124m\"\u001b[39m)\n\u001b[0;32m     10\u001b[0m \u001b[38;5;28mprint\u001b[39m(\u001b[38;5;124m\"\u001b[39m\u001b[38;5;124mSuccess\u001b[39m\u001b[38;5;124m\"\u001b[39m)\n",
      "\u001b[1;31mPermissionError\u001b[0m: [WinError 32] 程序無法存取檔案，因為檔案正由另一個程序使用。: 'test.txt'"
     ]
    }
   ],
   "source": [
    "import os\n",
    "class TestFile:\n",
    "     def openFile(self,filePath):   \n",
    "            self.handle = open(filePath,\"w\")\n",
    "            # self.handle.close()\n",
    "            \n",
    "t = TestFile()\n",
    "t.openFile(\"test.txt\")\n",
    "os.remove(\"test.txt\")\n",
    "print(\"Success\")"
   ]
  },
  {
   "cell_type": "code",
   "execution_count": 24,
   "id": "db7a9b83-1bb9-4343-a9b5-74d09c568deb",
   "metadata": {},
   "outputs": [],
   "source": [
    "import os\n",
    "class TestFile:\n",
    "     def openFile(self,filePath):   \n",
    "         with open(filePath,\"w\") as f:  # with open... as f 開啟檔案後會自行關閉(無須執行下兩行手動關閉)\n",
    "                      \n",
    "            # self.handle = open(filePath,\"w\")\n",
    "            # self.handle.close()\n",
    "            \n",
    "            t = TestFile()\n",
    "            t.openFile(\"test.txt\")\n",
    "            os.remove(\"test.txt\")\n",
    "            print(\"Success\")"
   ]
  },
  {
   "cell_type": "markdown",
   "id": "d232c527-2f87-41ac-8dcb-f39d4d792b3a",
   "metadata": {},
   "source": [
    "## 讀取檔案(json)"
   ]
  },
  {
   "cell_type": "code",
   "execution_count": 29,
   "id": "0881868b-ab04-4cba-89c6-c019fd2edbc4",
   "metadata": {},
   "outputs": [
    {
     "name": "stdout",
     "output_type": "stream",
     "text": [
      "{'python': 'class', 'Gjun': 100, 'Python class': True, 'Line': None} <class 'dict'>\n",
      "{\"python\": \"class\", \"Gjun\": 100, \"Python class\": true, \"Line\": null} <class 'str'>\n"
     ]
    }
   ],
   "source": [
    "import json\n",
    "json1 = {\"python\":\"class\", \"Gjun\":100, \"Python class\":True, \"Line\":None}\n",
    "print(json1,type(json1))\n",
    "jsonStr = json.dumps(json1)   #轉成json字串\n",
    "print(jsonStr,type(jsonStr))"
   ]
  },
  {
   "cell_type": "code",
   "execution_count": 30,
   "id": "1b341c92-1bab-4d9c-8f54-22fa96ccb103",
   "metadata": {},
   "outputs": [
    {
     "name": "stdout",
     "output_type": "stream",
     "text": [
      "{'python': 'class', 'Gjun': 100, 'Python class': True, 'Line': None} <class 'dict'>\n",
      "{\"python\": \"class\", \"Gjun\": 100, \"Python class\": true, \"Line\": null} <class 'str'>\n"
     ]
    }
   ],
   "source": [
    "import json\n",
    "json1 = {\"python\":\"class\", \"Gjun\":100, \"Python class\":True, \"Line\":None}\n",
    "print(json1,type(json1))\n",
    "jsonStr = json.dumps(json1, ensure_ascii= False)\n",
    "print(jsonStr,type(jsonStr))"
   ]
  },
  {
   "cell_type": "markdown",
   "id": "de37ca51-abf1-4360-b5ef-73eb3cd13dc8",
   "metadata": {},
   "source": [
    "## 檔案寫入(json)"
   ]
  },
  {
   "cell_type": "code",
   "execution_count": 31,
   "id": "1328f0d2-05c4-4ce5-9aa1-5f019f0dfb67",
   "metadata": {},
   "outputs": [],
   "source": [
    "import json\n",
    "json2 = {'python':\"課程\",\"gjun\":100,\"python-class\":True,\"Line\":None}\n",
    "with open('data0.json','w',encoding=\"utf-8\") as outfile:\n",
    "    json.dump(json2,outfile,ensure_ascii=False)"
   ]
  },
  {
   "cell_type": "code",
   "execution_count": null,
   "id": "700d4122-068e-4893-a021-08ded89febbd",
   "metadata": {},
   "outputs": [],
   "source": []
  }
 ],
 "metadata": {
  "kernelspec": {
   "display_name": "Python 3 (ipykernel)",
   "language": "python",
   "name": "python3"
  },
  "language_info": {
   "codemirror_mode": {
    "name": "ipython",
    "version": 3
   },
   "file_extension": ".py",
   "mimetype": "text/x-python",
   "name": "python",
   "nbconvert_exporter": "python",
   "pygments_lexer": "ipython3",
   "version": "3.11.7"
  }
 },
 "nbformat": 4,
 "nbformat_minor": 5
}
